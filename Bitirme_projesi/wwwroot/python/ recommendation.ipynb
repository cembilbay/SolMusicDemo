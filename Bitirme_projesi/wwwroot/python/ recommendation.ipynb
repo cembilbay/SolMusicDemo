{
 "cells": [
  {
   "cell_type": "code",
   "execution_count": null,
   "id": "1af88bc2",
   "metadata": {},
   "outputs": [],
   "source": [
    "import sys\n",
    "import pandas as pd\n",
    "import nltk\n",
    "from nltk.stem.porter import PorterStemmer\n",
    "from sklearn.feature_extraction.text import TfidfVectorizer\n",
    "from sklearn.metrics.pairwise import cosine_similarity"
   ]
  },
  {
   "cell_type": "code",
   "execution_count": 39,
   "id": "ea949362",
   "metadata": {},
   "outputs": [],
   "source": [
    "def load_data():\n",
    "    return pd.read_csv(\"turkish_song_lyrics.csv\")"
   ]
  },
  {
   "cell_type": "code",
   "execution_count": null,
   "id": "0419e102",
   "metadata": {},
   "outputs": [],
   "source": [
    "def preprocess_data(df):\n",
    "    df['lyrics'] = df['lyrics'].str.lower().replace(r'^\\w\\s', ' ').replace(r'\\n', ' ', regex=True)\n",
    "    stemmer = PorterStemmer()"
   ]
  },
  {
   "cell_type": "code",
   "execution_count": null,
   "id": "0c62ea46",
   "metadata": {},
   "outputs": [],
   "source": [
    "def tokenization(txt):\n",
    "        tokens = nltk.word_tokenize(txt)\n",
    "        stemming = [stemmer.stem(w) for w in tokens]\n",
    "        return \" \".join(stemming)\n",
    "df['lyrics'] = df['lyrics'].apply(lambda x: tokenization(x))\n",
    "df.head()"
   ]
  },
  {
   "cell_type": "code",
   "execution_count": null,
   "id": "54acf8bf",
   "metadata": {},
   "outputs": [],
   "source": []
  },
  {
   "cell_type": "code",
   "execution_count": null,
   "id": "753c4fa5",
   "metadata": {},
   "outputs": [],
   "source": [
    "def calculate_similarity(df):\n",
    "    tfidvector = TfidfVectorizer(analyzer='word', stop_words='english')\n",
    "    matrix = tfidvector.fit_transform(df['lyrics'])\n",
    "    similarity = cosine_similarity(matrix)\n",
    "    return similarity"
   ]
  },
  {
   "cell_type": "code",
   "execution_count": null,
   "id": "261268e7",
   "metadata": {},
   "outputs": [],
   "source": [
    "def recommendation(selected_song, df, similarity):\n",
    "    idx = df[df['song'] == selected_song].index[0]\n",
    "    distances = sorted(list(enumerate(similarity[idx])), reverse=True, key=lambda x: x[1])\n",
    "\n",
    "    songs = []\n",
    "    for m_id in distances[1:21]:\n",
    "        songs.append(df.iloc[m_id[0]].song)\n",
    "\n",
    "    return songs"
   ]
  },
  {
   "cell_type": "code",
   "execution_count": null,
   "id": "c2785338",
   "metadata": {},
   "outputs": [],
   "source": [
    "if __name__ == \"__main__\":\n",
    "    df = load_data()\n",
    "    df = preprocess_data(df)\n",
    "    similarity_matrix = calculate_similarity(df)\n",
    "    selected_song = sys.argv[1]\n",
    "    recommendations = recommendation(selected_song, df, similarity_matrix)\n",
    "    print(json.dumps(recommendations))\n"
   ]
  },
  {
   "cell_type": "code",
   "execution_count": null,
   "id": "ae7f2112",
   "metadata": {},
   "outputs": [],
   "source": []
  }
 ],
 "metadata": {
  "kernelspec": {
   "display_name": "Python 3 (ipykernel)",
   "language": "python",
   "name": "python3"
  },
  "language_info": {
   "codemirror_mode": {
    "name": "ipython",
    "version": 3
   },
   "file_extension": ".py",
   "mimetype": "text/x-python",
   "name": "python",
   "nbconvert_exporter": "python",
   "pygments_lexer": "ipython3",
   "version": "3.11.5"
  }
 },
 "nbformat": 4,
 "nbformat_minor": 5
}
