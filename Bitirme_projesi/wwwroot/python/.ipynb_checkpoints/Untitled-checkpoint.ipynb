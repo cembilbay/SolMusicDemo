{
 "cells": [
  {
   "cell_type": "code",
   "execution_count": null,
   "id": "94c16d7c",
   "metadata": {},
   "outputs": [],
   "source": [
    "import pandas as pd\n",
    "from sklearn.feature_extraction.text import TfidfVectorizer\n",
    "from sklearn.metrics.pairwise import linear_kernel"
   ]
  },
  {
   "cell_type": "code",
   "execution_count": null,
   "id": "0b35fc41",
   "metadata": {},
   "outputs": [],
   "source": [
    "df = pd.read_csv('turkish_song_lyrics.csv', encoding='utf-8')"
   ]
  },
  {
   "cell_type": "code",
   "execution_count": null,
   "id": "551597b8",
   "metadata": {},
   "outputs": [],
   "source": [
    "print(df.head())"
   ]
  },
  {
   "cell_type": "code",
   "execution_count": null,
   "id": "9e5b8496",
   "metadata": {},
   "outputs": [],
   "source": [
    "turkish_stopwords = [\"acaba\", \"ama\", \"aslında\", \"az\", \"bazı\", \"belki\", \"biri\", \"birkaç\", \"birşey\", \"biz\", \"bu\", \"çok\", \"çünkü\", \"da\", \"daha\", \"de\", \"defa\", \"diye\", \"eğer\", \"en\", \"gibi\", \"hem\", \"hep\", \"hepsi\", \"her\", \"hiç\", \"için\", \"ile\", \"ise\", \"kez\", \"ki\", \"kim\", \"mı\", \"mu\", \"mü\", \"nasıl\", \"ne\", \"neden\", \"nerde\", \"nerede\", \"nereye\", \"niçin\", \"niye\", \"o\", \"sanki\", \"şey\", \"siz\", \"şu\", \"tüm\", \"ve\", \"veya\", \"ya\", \"yani\"]"
   ]
  },
  {
   "cell_type": "code",
   "execution_count": null,
   "id": "c631398a",
   "metadata": {},
   "outputs": [],
   "source": [
    "tfidf_vectorizer = TfidfVectorizer(stop_words=turkish_stopwords)\n",
    "tfidf_matrix = tfidf_vectorizer.fit_transform(df['lyrics'])"
   ]
  },
  {
   "cell_type": "code",
   "execution_count": null,
   "id": "b65d9540",
   "metadata": {},
   "outputs": [],
   "source": [
    "cosine_similarity = linear_kernel(tfidf_matrix, tfidf_matrix)"
   ]
  },
  {
   "cell_type": "code",
   "execution_count": null,
   "id": "7a3fc248",
   "metadata": {},
   "outputs": [],
   "source": [
    "song_index = df[df['song'] == 'Aya (Ft. Murda)'].index[0]"
   ]
  },
  {
   "cell_type": "code",
   "execution_count": null,
   "id": "9887771d",
   "metadata": {},
   "outputs": [],
   "source": [
    "similar_songs = list(enumerate(cosine_similarity[song_index]))"
   ]
  },
  {
   "cell_type": "code",
   "execution_count": null,
   "id": "4965238f",
   "metadata": {},
   "outputs": [],
   "source": [
    "similar_songs = sorted(similar_songs, key=lambda x: x[1], reverse=True)\n"
   ]
  },
  {
   "cell_type": "code",
   "execution_count": null,
   "id": "28f7054e",
   "metadata": {},
   "outputs": [],
   "source": [
    "recommended_songs = similar_songs[1:6]\n",
    "\n",
    "# Kullanıcıya önerileri gösterin\n",
    "print(f\"\\n  için önerilen Türkçe şarkılar:\")\n",
    "for i, (index, score) in enumerate(recommended_songs):\n",
    "    print(f\"{i + 1}. {df['song'][index]} - {df['singer'][index]}\")"
   ]
  },
  {
   "cell_type": "code",
   "execution_count": 2,
   "id": "e3ebee78",
   "metadata": {},
   "outputs": [
    {
     "ename": "IndexError",
     "evalue": "index 0 is out of bounds for axis 0 with size 0",
     "output_type": "error",
     "traceback": [
      "\u001b[1;31m---------------------------------------------------------------------------\u001b[0m",
      "\u001b[1;31mIndexError\u001b[0m                                Traceback (most recent call last)",
      "Cell \u001b[1;32mIn[2], line 27\u001b[0m\n\u001b[0;32m     25\u001b[0m \u001b[38;5;28;01mif\u001b[39;00m \u001b[38;5;28mlen\u001b[39m(sys\u001b[38;5;241m.\u001b[39margv) \u001b[38;5;241m>\u001b[39m \u001b[38;5;241m1\u001b[39m:\n\u001b[0;32m     26\u001b[0m     song_name \u001b[38;5;241m=\u001b[39m sys\u001b[38;5;241m.\u001b[39margv[\u001b[38;5;241m1\u001b[39m]\n\u001b[1;32m---> 27\u001b[0m     \u001b[38;5;28mprint\u001b[39m(recommend(song_name))\n",
      "Cell \u001b[1;32mIn[2], line 14\u001b[0m, in \u001b[0;36mrecommend\u001b[1;34m(song_name)\u001b[0m\n\u001b[0;32m     11\u001b[0m tfidf_matrix \u001b[38;5;241m=\u001b[39m tfidf_vectorizer\u001b[38;5;241m.\u001b[39mfit_transform(df[\u001b[38;5;124m'\u001b[39m\u001b[38;5;124mlyrics\u001b[39m\u001b[38;5;124m'\u001b[39m])\n\u001b[0;32m     12\u001b[0m cosine_similarity \u001b[38;5;241m=\u001b[39m linear_kernel(tfidf_matrix, tfidf_matrix)\n\u001b[1;32m---> 14\u001b[0m song_index \u001b[38;5;241m=\u001b[39m df[df[\u001b[38;5;124m'\u001b[39m\u001b[38;5;124msong\u001b[39m\u001b[38;5;124m'\u001b[39m] \u001b[38;5;241m==\u001b[39m song_name]\u001b[38;5;241m.\u001b[39mindex[\u001b[38;5;241m0\u001b[39m]\n\u001b[0;32m     15\u001b[0m similar_songs \u001b[38;5;241m=\u001b[39m \u001b[38;5;28mlist\u001b[39m(\u001b[38;5;28menumerate\u001b[39m(cosine_similarity[song_index]))\n\u001b[0;32m     16\u001b[0m similar_songs \u001b[38;5;241m=\u001b[39m \u001b[38;5;28msorted\u001b[39m(similar_songs, key\u001b[38;5;241m=\u001b[39m\u001b[38;5;28;01mlambda\u001b[39;00m x: x[\u001b[38;5;241m1\u001b[39m], reverse\u001b[38;5;241m=\u001b[39m\u001b[38;5;28;01mTrue\u001b[39;00m)\n",
      "File \u001b[1;32m~\\anaconda3\\Lib\\site-packages\\pandas\\core\\indexes\\base.py:5175\u001b[0m, in \u001b[0;36mIndex.__getitem__\u001b[1;34m(self, key)\u001b[0m\n\u001b[0;32m   5172\u001b[0m \u001b[38;5;28;01mif\u001b[39;00m is_integer(key) \u001b[38;5;129;01mor\u001b[39;00m is_float(key):\n\u001b[0;32m   5173\u001b[0m     \u001b[38;5;66;03m# GH#44051 exclude bool, which would return a 2d ndarray\u001b[39;00m\n\u001b[0;32m   5174\u001b[0m     key \u001b[38;5;241m=\u001b[39m com\u001b[38;5;241m.\u001b[39mcast_scalar_indexer(key)\n\u001b[1;32m-> 5175\u001b[0m     \u001b[38;5;28;01mreturn\u001b[39;00m getitem(key)\n\u001b[0;32m   5177\u001b[0m \u001b[38;5;28;01mif\u001b[39;00m \u001b[38;5;28misinstance\u001b[39m(key, \u001b[38;5;28mslice\u001b[39m):\n\u001b[0;32m   5178\u001b[0m     \u001b[38;5;66;03m# This case is separated from the conditional above to avoid\u001b[39;00m\n\u001b[0;32m   5179\u001b[0m     \u001b[38;5;66;03m# pessimization com.is_bool_indexer and ndim checks.\u001b[39;00m\n\u001b[0;32m   5180\u001b[0m     result \u001b[38;5;241m=\u001b[39m getitem(key)\n",
      "\u001b[1;31mIndexError\u001b[0m: index 0 is out of bounds for axis 0 with size 0"
     ]
    }
   ],
   "source": [
    "\n",
    "import sys\n",
    "import json\n",
    "import pandas as pd\n",
    "from sklearn.feature_extraction.text import TfidfVectorizer\n",
    "from sklearn.metrics.pairwise import linear_kernel\n",
    "\n",
    "song_name=\"Acılara Tutunmak\"\n",
    "def recommend(song_name):\n",
    "    df = pd.read_csv(\"turkish_song_lyrics.csv\")\n",
    "    turkish_stopwords = [\"acaba\", \"ama\", \"aslında\", \"az\", \"bazı\", \"belki\", \"biri\", \"birkaç\", \"birşey\", \"biz\", \"bu\", \"çok\", \"çünkü\", \"da\", \"daha\", \"de\", \"defa\", \"diye\", \"eğer\", \"en\", \"gibi\", \"hem\", \"hep\", \"hepsi\", \"her\", \"hiç\", \"için\", \"ile\", \"ise\", \"kez\", \"ki\", \"kim\", \"mı\", \"mu\", \"mü\", \"nasıl\", \"ne\", \"neden\", \"nerde\", \"nerede\", \"nereye\", \"niçin\", \"niye\", \"o\", \"sanki\", \"şey\", \"siz\", \"şu\", \"tüm\", \"ve\", \"veya\", \"ya\", \"yani\"]\n",
    "    tfidf_vectorizer = TfidfVectorizer(stop_words=turkish_stopwords)\n",
    "    tfidf_matrix = tfidf_vectorizer.fit_transform(df['lyrics'])\n",
    "    cosine_similarity = linear_kernel(tfidf_matrix, tfidf_matrix)\n",
    "\n",
    "    song_index = df[df['song'] == song_name].index[0]\n",
    "    similar_songs = list(enumerate(cosine_similarity[song_index]))\n",
    "    similar_songs = sorted(similar_songs, key=lambda x: x[1], reverse=True)\n",
    "    recommended_songs = similar_songs[1:6]\n",
    "\n",
    "    # Önerilen şarkıları JSON formatında döndürme\n",
    "    result = [{\"song\": df['song'][index], \"singer\": df['singer'][index]} for index, _ in recommended_songs]\n",
    "\n",
    "    return json.dumps(result)\n",
    "\n",
    "if __name__ == \"__main__\":\n",
    "    if len(sys.argv) > 1:\n",
    "        song_name = sys.argv[1]\n",
    "        print(recommend(song_name))\n"
   ]
  },
  {
   "cell_type": "code",
   "execution_count": null,
   "id": "1fc9c8df",
   "metadata": {},
   "outputs": [],
   "source": []
  }
 ],
 "metadata": {
  "kernelspec": {
   "display_name": "Python 3 (ipykernel)",
   "language": "python",
   "name": "python3"
  },
  "language_info": {
   "codemirror_mode": {
    "name": "ipython",
    "version": 3
   },
   "file_extension": ".py",
   "mimetype": "text/x-python",
   "name": "python",
   "nbconvert_exporter": "python",
   "pygments_lexer": "ipython3",
   "version": "3.11.5"
  }
 },
 "nbformat": 4,
 "nbformat_minor": 5
}
