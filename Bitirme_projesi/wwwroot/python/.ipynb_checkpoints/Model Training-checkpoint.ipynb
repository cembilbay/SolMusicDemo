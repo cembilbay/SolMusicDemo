{
 "cells": [
  {
   "cell_type": "code",
   "execution_count": 1,
   "id": "33e55882",
   "metadata": {},
   "outputs": [],
   "source": [
    "import pandas as pd\n",
    "import langid\n",
    "from langdetect import detect"
   ]
  },
  {
   "cell_type": "code",
   "execution_count": 2,
   "id": "803970bd",
   "metadata": {},
   "outputs": [],
   "source": [
    "df=pd.read_csv(\"turkish_song_lyrics.csv\")\n"
   ]
  },
  {
   "cell_type": "code",
   "execution_count": 3,
   "id": "dcd98f2f",
   "metadata": {},
   "outputs": [
    {
     "data": {
      "text/html": [
       "<div>\n",
       "<style scoped>\n",
       "    .dataframe tbody tr th:only-of-type {\n",
       "        vertical-align: middle;\n",
       "    }\n",
       "\n",
       "    .dataframe tbody tr th {\n",
       "        vertical-align: top;\n",
       "    }\n",
       "\n",
       "    .dataframe thead th {\n",
       "        text-align: right;\n",
       "    }\n",
       "</style>\n",
       "<table border=\"1\" class=\"dataframe\">\n",
       "  <thead>\n",
       "    <tr style=\"text-align: right;\">\n",
       "      <th></th>\n",
       "      <th>singer</th>\n",
       "      <th>song</th>\n",
       "      <th>album</th>\n",
       "      <th>lyrics</th>\n",
       "    </tr>\n",
       "  </thead>\n",
       "  <tbody>\n",
       "    <tr>\n",
       "      <th>0</th>\n",
       "      <td>Ahmet Kaya</td>\n",
       "      <td>(Potbori) Fabrika Kızı, Cama Çıkma, Fabrika Önü</td>\n",
       "      <td>Şafak Türküsü</td>\n",
       "      <td>Bir mavi otobüs gelirdi\\nSeni alır giderdi\\nO ...</td>\n",
       "    </tr>\n",
       "    <tr>\n",
       "      <th>1</th>\n",
       "      <td>Ahmet Kaya</td>\n",
       "      <td>Acı Ninni</td>\n",
       "      <td>Baş Kaldırıyorum</td>\n",
       "      <td>Uyusun ha iyi büyüsün,\\nCamlar buğulanmasın\\nS...</td>\n",
       "    </tr>\n",
       "    <tr>\n",
       "      <th>2</th>\n",
       "      <td>Ahmet Kaya</td>\n",
       "      <td>Acılara Tutunmak</td>\n",
       "      <td>Acılara Tutunmak</td>\n",
       "      <td>Kavuşmak özgürlükse özgürdük ikimiz de\\nElleri...</td>\n",
       "    </tr>\n",
       "    <tr>\n",
       "      <th>3</th>\n",
       "      <td>Ahmet Kaya</td>\n",
       "      <td>Ada Sahilleri</td>\n",
       "      <td>Hoşçakalın Gözüm</td>\n",
       "      <td>Ada sahillerinde bekliyorum\\nHer zaman yolları...</td>\n",
       "    </tr>\n",
       "    <tr>\n",
       "      <th>4</th>\n",
       "      <td>Ahmet Kaya</td>\n",
       "      <td>Adı Bahtiyar</td>\n",
       "      <td>Dinle Sevgili Ülkem</td>\n",
       "      <td>Geçiyor önümden, sirenler içinde\\nAh eller üst...</td>\n",
       "    </tr>\n",
       "  </tbody>\n",
       "</table>\n",
       "</div>"
      ],
      "text/plain": [
       "       singer                                             song  \\\n",
       "0  Ahmet Kaya  (Potbori) Fabrika Kızı, Cama Çıkma, Fabrika Önü   \n",
       "1  Ahmet Kaya                                        Acı Ninni   \n",
       "2  Ahmet Kaya                                 Acılara Tutunmak   \n",
       "3  Ahmet Kaya                                    Ada Sahilleri   \n",
       "4  Ahmet Kaya                                     Adı Bahtiyar   \n",
       "\n",
       "                 album                                             lyrics  \n",
       "0        Şafak Türküsü  Bir mavi otobüs gelirdi\\nSeni alır giderdi\\nO ...  \n",
       "1     Baş Kaldırıyorum  Uyusun ha iyi büyüsün,\\nCamlar buğulanmasın\\nS...  \n",
       "2     Acılara Tutunmak  Kavuşmak özgürlükse özgürdük ikimiz de\\nElleri...  \n",
       "3     Hoşçakalın Gözüm  Ada sahillerinde bekliyorum\\nHer zaman yolları...  \n",
       "4  Dinle Sevgili Ülkem  Geçiyor önümden, sirenler içinde\\nAh eller üst...  "
      ]
     },
     "execution_count": 3,
     "metadata": {},
     "output_type": "execute_result"
    }
   ],
   "source": [
    "df.head(5)"
   ]
  },
  {
   "cell_type": "code",
   "execution_count": 4,
   "id": "b8f4863c",
   "metadata": {},
   "outputs": [
    {
     "data": {
      "text/html": [
       "<div>\n",
       "<style scoped>\n",
       "    .dataframe tbody tr th:only-of-type {\n",
       "        vertical-align: middle;\n",
       "    }\n",
       "\n",
       "    .dataframe tbody tr th {\n",
       "        vertical-align: top;\n",
       "    }\n",
       "\n",
       "    .dataframe thead th {\n",
       "        text-align: right;\n",
       "    }\n",
       "</style>\n",
       "<table border=\"1\" class=\"dataframe\">\n",
       "  <thead>\n",
       "    <tr style=\"text-align: right;\">\n",
       "      <th></th>\n",
       "      <th>singer</th>\n",
       "      <th>song</th>\n",
       "      <th>album</th>\n",
       "      <th>lyrics</th>\n",
       "    </tr>\n",
       "  </thead>\n",
       "  <tbody>\n",
       "    <tr>\n",
       "      <th>4970</th>\n",
       "      <td>Şebnem Ferah</td>\n",
       "      <td>İnsanlık</td>\n",
       "      <td>Benim Adım Orman</td>\n",
       "      <td>Aynıydı gökyüzümüz\\nSavrulduk her birimiz\\nİns...</td>\n",
       "    </tr>\n",
       "    <tr>\n",
       "      <th>4971</th>\n",
       "      <td>Şebnem Ferah</td>\n",
       "      <td>İstiklal Caddesi Kadar</td>\n",
       "      <td>Benim Adım Orman</td>\n",
       "      <td>Alnımdan akan ter\\nSana hiç değmedi\\nGözümden ...</td>\n",
       "    </tr>\n",
       "    <tr>\n",
       "      <th>4972</th>\n",
       "      <td>Şebnem Ferah</td>\n",
       "      <td>İyi Gün Dostlarım</td>\n",
       "      <td>Kadın</td>\n",
       "      <td>Hangi gün hangi an üzülsem ağlasam\\nHalime gül...</td>\n",
       "    </tr>\n",
       "    <tr>\n",
       "      <th>4973</th>\n",
       "      <td>Şebnem Ferah</td>\n",
       "      <td>İyi Kötü (Dans Pisti)</td>\n",
       "      <td>Kelimeler Yetse</td>\n",
       "      <td>Biriyle fena halde konuşmaya ihtiyacım var \\nB...</td>\n",
       "    </tr>\n",
       "    <tr>\n",
       "      <th>4974</th>\n",
       "      <td>Şebnem Ferah</td>\n",
       "      <td>Şarkılar Yalan Söylemez</td>\n",
       "      <td>Parmak İzi</td>\n",
       "      <td>Ömür kapkaranlık\\nNasıl aydınlanır\\nBen yanmaz...</td>\n",
       "    </tr>\n",
       "  </tbody>\n",
       "</table>\n",
       "</div>"
      ],
      "text/plain": [
       "            singer                     song             album  \\\n",
       "4970  Şebnem Ferah                 İnsanlık  Benim Adım Orman   \n",
       "4971  Şebnem Ferah   İstiklal Caddesi Kadar  Benim Adım Orman   \n",
       "4972  Şebnem Ferah        İyi Gün Dostlarım             Kadın   \n",
       "4973  Şebnem Ferah    İyi Kötü (Dans Pisti)   Kelimeler Yetse   \n",
       "4974  Şebnem Ferah  Şarkılar Yalan Söylemez        Parmak İzi   \n",
       "\n",
       "                                                 lyrics  \n",
       "4970  Aynıydı gökyüzümüz\\nSavrulduk her birimiz\\nİns...  \n",
       "4971  Alnımdan akan ter\\nSana hiç değmedi\\nGözümden ...  \n",
       "4972  Hangi gün hangi an üzülsem ağlasam\\nHalime gül...  \n",
       "4973  Biriyle fena halde konuşmaya ihtiyacım var \\nB...  \n",
       "4974  Ömür kapkaranlık\\nNasıl aydınlanır\\nBen yanmaz...  "
      ]
     },
     "execution_count": 4,
     "metadata": {},
     "output_type": "execute_result"
    }
   ],
   "source": [
    "df.tail(5)"
   ]
  },
  {
   "cell_type": "code",
   "execution_count": 5,
   "id": "719e5fdb",
   "metadata": {},
   "outputs": [
    {
     "data": {
      "text/plain": [
       "(4975, 4)"
      ]
     },
     "execution_count": 5,
     "metadata": {},
     "output_type": "execute_result"
    }
   ],
   "source": [
    "df.shape"
   ]
  },
  {
   "cell_type": "code",
   "execution_count": 6,
   "id": "40479f40",
   "metadata": {},
   "outputs": [
    {
     "data": {
      "text/plain": [
       "singer      0\n",
       "song        0\n",
       "album     901\n",
       "lyrics      0\n",
       "dtype: int64"
      ]
     },
     "execution_count": 6,
     "metadata": {},
     "output_type": "execute_result"
    }
   ],
   "source": [
    "df.isnull().sum()"
   ]
  },
  {
   "cell_type": "code",
   "execution_count": null,
   "id": "8b4bdd9c",
   "metadata": {},
   "outputs": [],
   "source": []
  },
  {
   "cell_type": "code",
   "execution_count": 7,
   "id": "17b2f6a2",
   "metadata": {},
   "outputs": [
    {
     "data": {
      "text/html": [
       "<div>\n",
       "<style scoped>\n",
       "    .dataframe tbody tr th:only-of-type {\n",
       "        vertical-align: middle;\n",
       "    }\n",
       "\n",
       "    .dataframe tbody tr th {\n",
       "        vertical-align: top;\n",
       "    }\n",
       "\n",
       "    .dataframe thead th {\n",
       "        text-align: right;\n",
       "    }\n",
       "</style>\n",
       "<table border=\"1\" class=\"dataframe\">\n",
       "  <thead>\n",
       "    <tr style=\"text-align: right;\">\n",
       "      <th></th>\n",
       "      <th>singer</th>\n",
       "      <th>song</th>\n",
       "      <th>album</th>\n",
       "      <th>lyrics</th>\n",
       "    </tr>\n",
       "  </thead>\n",
       "  <tbody>\n",
       "    <tr>\n",
       "      <th>0</th>\n",
       "      <td>Ahmet Kaya</td>\n",
       "      <td>(Potbori) Fabrika Kızı, Cama Çıkma, Fabrika Önü</td>\n",
       "      <td>Şafak Türküsü</td>\n",
       "      <td>Bir mavi otobüs gelirdi\\nSeni alır giderdi\\nO ...</td>\n",
       "    </tr>\n",
       "    <tr>\n",
       "      <th>1</th>\n",
       "      <td>Ahmet Kaya</td>\n",
       "      <td>Acı Ninni</td>\n",
       "      <td>Baş Kaldırıyorum</td>\n",
       "      <td>Uyusun ha iyi büyüsün,\\nCamlar buğulanmasın\\nS...</td>\n",
       "    </tr>\n",
       "    <tr>\n",
       "      <th>2</th>\n",
       "      <td>Ahmet Kaya</td>\n",
       "      <td>Acılara Tutunmak</td>\n",
       "      <td>Acılara Tutunmak</td>\n",
       "      <td>Kavuşmak özgürlükse özgürdük ikimiz de\\nElleri...</td>\n",
       "    </tr>\n",
       "    <tr>\n",
       "      <th>3</th>\n",
       "      <td>Ahmet Kaya</td>\n",
       "      <td>Ada Sahilleri</td>\n",
       "      <td>Hoşçakalın Gözüm</td>\n",
       "      <td>Ada sahillerinde bekliyorum\\nHer zaman yolları...</td>\n",
       "    </tr>\n",
       "    <tr>\n",
       "      <th>4</th>\n",
       "      <td>Ahmet Kaya</td>\n",
       "      <td>Adı Bahtiyar</td>\n",
       "      <td>Dinle Sevgili Ülkem</td>\n",
       "      <td>Geçiyor önümden, sirenler içinde\\nAh eller üst...</td>\n",
       "    </tr>\n",
       "    <tr>\n",
       "      <th>5</th>\n",
       "      <td>Ahmet Kaya</td>\n",
       "      <td>Adı Yılmaz</td>\n",
       "      <td>Dosta Düşmana Karşı</td>\n",
       "      <td>Dalyan gibi bir çocuktu,\\nBenim gözümde küçükt...</td>\n",
       "    </tr>\n",
       "    <tr>\n",
       "      <th>6</th>\n",
       "      <td>Ahmet Kaya</td>\n",
       "      <td>Ah</td>\n",
       "      <td>Resitaller</td>\n",
       "      <td>Yüzünün yarısı göz kadife yansımalı,\\nBulutlu ...</td>\n",
       "    </tr>\n",
       "    <tr>\n",
       "      <th>7</th>\n",
       "      <td>Ahmet Kaya</td>\n",
       "      <td>Ah Ulan Rıza</td>\n",
       "      <td>Resitaller</td>\n",
       "      <td>Neden hala gelmedi? \\nSaati mi şaşırdı bu hıya...</td>\n",
       "    </tr>\n",
       "    <tr>\n",
       "      <th>8</th>\n",
       "      <td>Ahmet Kaya</td>\n",
       "      <td>Aklanacak Dünya</td>\n",
       "      <td>Yazmalı Gelin</td>\n",
       "      <td>Alnının orta yerinde\\nBir azap dövmesi hayat\\n...</td>\n",
       "    </tr>\n",
       "    <tr>\n",
       "      <th>9</th>\n",
       "      <td>Ahmet Kaya</td>\n",
       "      <td>Al Öfkemi</td>\n",
       "      <td>Hoşçakalın Gözüm</td>\n",
       "      <td>Her sürgünün gözlerine\\nBu sebepten ah geceye\\...</td>\n",
       "    </tr>\n",
       "  </tbody>\n",
       "</table>\n",
       "</div>"
      ],
      "text/plain": [
       "       singer                                             song  \\\n",
       "0  Ahmet Kaya  (Potbori) Fabrika Kızı, Cama Çıkma, Fabrika Önü   \n",
       "1  Ahmet Kaya                                        Acı Ninni   \n",
       "2  Ahmet Kaya                                 Acılara Tutunmak   \n",
       "3  Ahmet Kaya                                    Ada Sahilleri   \n",
       "4  Ahmet Kaya                                     Adı Bahtiyar   \n",
       "5  Ahmet Kaya                                       Adı Yılmaz   \n",
       "6  Ahmet Kaya                                               Ah   \n",
       "7  Ahmet Kaya                                     Ah Ulan Rıza   \n",
       "8  Ahmet Kaya                                  Aklanacak Dünya   \n",
       "9  Ahmet Kaya                                        Al Öfkemi   \n",
       "\n",
       "                 album                                             lyrics  \n",
       "0        Şafak Türküsü  Bir mavi otobüs gelirdi\\nSeni alır giderdi\\nO ...  \n",
       "1     Baş Kaldırıyorum  Uyusun ha iyi büyüsün,\\nCamlar buğulanmasın\\nS...  \n",
       "2     Acılara Tutunmak  Kavuşmak özgürlükse özgürdük ikimiz de\\nElleri...  \n",
       "3     Hoşçakalın Gözüm  Ada sahillerinde bekliyorum\\nHer zaman yolları...  \n",
       "4  Dinle Sevgili Ülkem  Geçiyor önümden, sirenler içinde\\nAh eller üst...  \n",
       "5  Dosta Düşmana Karşı  Dalyan gibi bir çocuktu,\\nBenim gözümde küçükt...  \n",
       "6           Resitaller  Yüzünün yarısı göz kadife yansımalı,\\nBulutlu ...  \n",
       "7           Resitaller  Neden hala gelmedi? \\nSaati mi şaşırdı bu hıya...  \n",
       "8        Yazmalı Gelin  Alnının orta yerinde\\nBir azap dövmesi hayat\\n...  \n",
       "9     Hoşçakalın Gözüm  Her sürgünün gözlerine\\nBu sebepten ah geceye\\...  "
      ]
     },
     "execution_count": 7,
     "metadata": {},
     "output_type": "execute_result"
    }
   ],
   "source": [
    "df.head(10)"
   ]
  },
  {
   "cell_type": "code",
   "execution_count": 8,
   "id": "6d07ad17",
   "metadata": {},
   "outputs": [
    {
     "data": {
      "text/plain": [
       "\"Bir mavi otobüs gelirdi\\nSeni alır giderdi\\nO mavi otobüs var ya\\nSeni alır giderdi\\nKaldırımlar kaldırımlar varya\\nSeni alır giderdi\\nO mavi otobüs varya\\nSeni alır giderdi\\nFabrikada tütün sarar sanki kendi içer gibi\\nOturmuşta hayal kurar bütün insanlar gibi\\nCama cama\\nCama çıkma sevdiğim O fabrikanın onu varya\\nO kalabalık insanlar varya\\nSeni alır giderdi\\nSaat 6''yı 10 geçe varya\\nO mavi otobüs varya\\nO insanlar varya\\nSeni alır giderdi\\nFabrikada tütün sarar \\nSanki kendi içer gibi\\nOturmuşta hayal kurar \\nBütün insanlar gibi\""
      ]
     },
     "execution_count": 8,
     "metadata": {},
     "output_type": "execute_result"
    }
   ],
   "source": [
    "df['lyrics'][0]"
   ]
  },
  {
   "cell_type": "code",
   "execution_count": null,
   "id": "36a9103a",
   "metadata": {},
   "outputs": [],
   "source": []
  },
  {
   "cell_type": "code",
   "execution_count": 9,
   "id": "ce3ea89e",
   "metadata": {},
   "outputs": [
    {
     "data": {
      "text/plain": [
       "(4975, 4)"
      ]
     },
     "execution_count": 9,
     "metadata": {},
     "output_type": "execute_result"
    }
   ],
   "source": [
    "df.shape"
   ]
  },
  {
   "cell_type": "markdown",
   "id": "81dde7dc",
   "metadata": {},
   "source": [
    "Text Cleaning/Text Preprocessing"
   ]
  },
  {
   "cell_type": "code",
   "execution_count": 10,
   "id": "42769e65",
   "metadata": {},
   "outputs": [],
   "source": [
    "df['lyrics']=df['lyrics'].str.lower().replace(r'^\\w\\s', ' ').replace(r'\\n',' ',regex=True)"
   ]
  },
  {
   "cell_type": "code",
   "execution_count": 11,
   "id": "5c51ee1a",
   "metadata": {},
   "outputs": [
    {
     "data": {
      "text/html": [
       "<div>\n",
       "<style scoped>\n",
       "    .dataframe tbody tr th:only-of-type {\n",
       "        vertical-align: middle;\n",
       "    }\n",
       "\n",
       "    .dataframe tbody tr th {\n",
       "        vertical-align: top;\n",
       "    }\n",
       "\n",
       "    .dataframe thead th {\n",
       "        text-align: right;\n",
       "    }\n",
       "</style>\n",
       "<table border=\"1\" class=\"dataframe\">\n",
       "  <thead>\n",
       "    <tr style=\"text-align: right;\">\n",
       "      <th></th>\n",
       "      <th>singer</th>\n",
       "      <th>song</th>\n",
       "      <th>album</th>\n",
       "      <th>lyrics</th>\n",
       "    </tr>\n",
       "  </thead>\n",
       "  <tbody>\n",
       "    <tr>\n",
       "      <th>4970</th>\n",
       "      <td>Şebnem Ferah</td>\n",
       "      <td>İnsanlık</td>\n",
       "      <td>Benim Adım Orman</td>\n",
       "      <td>aynıydı gökyüzümüz savrulduk her birimiz i̇nsa...</td>\n",
       "    </tr>\n",
       "    <tr>\n",
       "      <th>4971</th>\n",
       "      <td>Şebnem Ferah</td>\n",
       "      <td>İstiklal Caddesi Kadar</td>\n",
       "      <td>Benim Adım Orman</td>\n",
       "      <td>alnımdan akan ter sana hiç değmedi gözümden da...</td>\n",
       "    </tr>\n",
       "    <tr>\n",
       "      <th>4972</th>\n",
       "      <td>Şebnem Ferah</td>\n",
       "      <td>İyi Gün Dostlarım</td>\n",
       "      <td>Kadın</td>\n",
       "      <td>hangi gün hangi an üzülsem ağlasam halime güld...</td>\n",
       "    </tr>\n",
       "    <tr>\n",
       "      <th>4973</th>\n",
       "      <td>Şebnem Ferah</td>\n",
       "      <td>İyi Kötü (Dans Pisti)</td>\n",
       "      <td>Kelimeler Yetse</td>\n",
       "      <td>biriyle fena halde konuşmaya ihtiyacım var  bi...</td>\n",
       "    </tr>\n",
       "    <tr>\n",
       "      <th>4974</th>\n",
       "      <td>Şebnem Ferah</td>\n",
       "      <td>Şarkılar Yalan Söylemez</td>\n",
       "      <td>Parmak İzi</td>\n",
       "      <td>ömür kapkaranlık nasıl aydınlanır ben yanmazsa...</td>\n",
       "    </tr>\n",
       "  </tbody>\n",
       "</table>\n",
       "</div>"
      ],
      "text/plain": [
       "            singer                     song             album  \\\n",
       "4970  Şebnem Ferah                 İnsanlık  Benim Adım Orman   \n",
       "4971  Şebnem Ferah   İstiklal Caddesi Kadar  Benim Adım Orman   \n",
       "4972  Şebnem Ferah        İyi Gün Dostlarım             Kadın   \n",
       "4973  Şebnem Ferah    İyi Kötü (Dans Pisti)   Kelimeler Yetse   \n",
       "4974  Şebnem Ferah  Şarkılar Yalan Söylemez        Parmak İzi   \n",
       "\n",
       "                                                 lyrics  \n",
       "4970  aynıydı gökyüzümüz savrulduk her birimiz i̇nsa...  \n",
       "4971  alnımdan akan ter sana hiç değmedi gözümden da...  \n",
       "4972  hangi gün hangi an üzülsem ağlasam halime güld...  \n",
       "4973  biriyle fena halde konuşmaya ihtiyacım var  bi...  \n",
       "4974  ömür kapkaranlık nasıl aydınlanır ben yanmazsa...  "
      ]
     },
     "execution_count": 11,
     "metadata": {},
     "output_type": "execute_result"
    }
   ],
   "source": [
    "df.tail(5)"
   ]
  },
  {
   "cell_type": "code",
   "execution_count": 12,
   "id": "85e174f6",
   "metadata": {},
   "outputs": [],
   "source": [
    "import nltk\n",
    "from nltk.stem.porter import PorterStemmer"
   ]
  },
  {
   "cell_type": "code",
   "execution_count": 13,
   "id": "71ce20ab",
   "metadata": {},
   "outputs": [],
   "source": [
    "stemmer = PorterStemmer()"
   ]
  },
  {
   "cell_type": "code",
   "execution_count": 14,
   "id": "17bc8cb5",
   "metadata": {},
   "outputs": [],
   "source": [
    "def tokenization(txt):\n",
    "    tokens = nltk.word_tokenize(txt)\n",
    "    stemming = [stemmer.stem(w) for w in tokens]\n",
    "    return \" \".join(stemming)"
   ]
  },
  {
   "cell_type": "code",
   "execution_count": 15,
   "id": "4dd18e74",
   "metadata": {},
   "outputs": [],
   "source": [
    "df['lyrics'] = df['lyrics'].apply(lambda x: tokenization(x))"
   ]
  },
  {
   "cell_type": "code",
   "execution_count": 16,
   "id": "2f41e138",
   "metadata": {},
   "outputs": [],
   "source": [
    "from sklearn.feature_extraction.text import TfidfVectorizer\n",
    "from sklearn.metrics.pairwise import cosine_similarity"
   ]
  },
  {
   "cell_type": "code",
   "execution_count": 17,
   "id": "a275bce4",
   "metadata": {},
   "outputs": [],
   "source": [
    "tfidvector = TfidfVectorizer(analyzer='word',stop_words='english')\n",
    "matrix = tfidvector.fit_transform(df['lyrics'])\n",
    "similarity = cosine_similarity(matrix)"
   ]
  },
  {
   "cell_type": "code",
   "execution_count": 18,
   "id": "80fc7755",
   "metadata": {},
   "outputs": [
    {
     "data": {
      "text/plain": [
       "array([1.00000000e+00, 0.00000000e+00, 1.66575225e-02, ...,\n",
       "       3.24148478e-04, 7.42905149e-03, 6.47884636e-04])"
      ]
     },
     "execution_count": 18,
     "metadata": {},
     "output_type": "execute_result"
    }
   ],
   "source": [
    "similarity[0]"
   ]
  },
  {
   "cell_type": "code",
   "execution_count": 19,
   "id": "9224f7a2",
   "metadata": {},
   "outputs": [
    {
     "data": {
      "text/plain": [
       "2"
      ]
     },
     "execution_count": 19,
     "metadata": {},
     "output_type": "execute_result"
    }
   ],
   "source": [
    "df[df['song'] == 'Acılara Tutunmak'].index[0]"
   ]
  },
  {
   "cell_type": "code",
   "execution_count": 20,
   "id": "09444c0f",
   "metadata": {},
   "outputs": [],
   "source": [
    "def recommendation(song_df):\n",
    "    idx = df[df['song'] == song_df].index[0]\n",
    "    distances = sorted(list(enumerate(similarity[idx])),reverse=True,key=lambda x:x[1])\n",
    "    \n",
    "    songs = []\n",
    "    for m_id in distances[1:21]:\n",
    "        songs.append(df.iloc[m_id[0]].song)\n",
    "        \n",
    "    return songs"
   ]
  },
  {
   "cell_type": "code",
   "execution_count": 21,
   "id": "2cb0710a",
   "metadata": {
    "scrolled": true
   },
   "outputs": [
    {
     "data": {
      "text/plain": [
       "['İnadına Sevmek',\n",
       " 'Aşk Yalanmış',\n",
       " 'Süper',\n",
       " 'Yıllar Sonra',\n",
       " 'İkimizden Bir Kalmadı',\n",
       " 'Gelirsin Bir Gün Diye',\n",
       " 'Avuçlarımda Hala Sıcaklığın Var',\n",
       " 'Yalanmış',\n",
       " 'Her Şey Yalan',\n",
       " 'Yalan Yıllar',\n",
       " 'Yabancı (Ft. Yaya)',\n",
       " 'Beyhude Geçti Yıllar',\n",
       " 'Düşmanlara Ne Gerek var',\n",
       " 'Yarım',\n",
       " 'Yalan',\n",
       " 'Oyunbozan',\n",
       " 'Elde Var Bir',\n",
       " 'Değmezmiş Sana',\n",
       " 'Açık Adres',\n",
       " 'Geçmiş Olsun']"
      ]
     },
     "execution_count": 21,
     "metadata": {},
     "output_type": "execute_result"
    }
   ],
   "source": [
    "recommendation('Acılara Tutunmak')"
   ]
  },
  {
   "cell_type": "code",
   "execution_count": 22,
   "id": "f1e40443",
   "metadata": {},
   "outputs": [],
   "source": [
    "import pickle\n",
    "pickle.dump(similarity,open('similarity.pkl','wb'))\n",
    "pickle.dump(df,open('df.pkl','wb'))"
   ]
  },
  {
   "cell_type": "code",
   "execution_count": 23,
   "id": "cbd79617",
   "metadata": {},
   "outputs": [
    {
     "ename": "TypeError",
     "evalue": "Object of type ndarray is not JSON serializable",
     "output_type": "error",
     "traceback": [
      "\u001b[1;31m---------------------------------------------------------------------------\u001b[0m",
      "\u001b[1;31mTypeError\u001b[0m                                 Traceback (most recent call last)",
      "Cell \u001b[1;32mIn[23], line 2\u001b[0m\n\u001b[0;32m      1\u001b[0m \u001b[38;5;28;01mwith\u001b[39;00m \u001b[38;5;28mopen\u001b[39m(\u001b[38;5;124m'\u001b[39m\u001b[38;5;124msimilarity.json\u001b[39m\u001b[38;5;124m'\u001b[39m, \u001b[38;5;124m'\u001b[39m\u001b[38;5;124mw\u001b[39m\u001b[38;5;124m'\u001b[39m) \u001b[38;5;28;01mas\u001b[39;00m json_file:\n\u001b[1;32m----> 2\u001b[0m     json\u001b[38;5;241m.\u001b[39mdump(similarity, json_file)\n",
      "File \u001b[1;32m~\\anaconda3\\Lib\\json\\__init__.py:179\u001b[0m, in \u001b[0;36mdump\u001b[1;34m(obj, fp, skipkeys, ensure_ascii, check_circular, allow_nan, cls, indent, separators, default, sort_keys, **kw)\u001b[0m\n\u001b[0;32m    173\u001b[0m     iterable \u001b[38;5;241m=\u001b[39m \u001b[38;5;28mcls\u001b[39m(skipkeys\u001b[38;5;241m=\u001b[39mskipkeys, ensure_ascii\u001b[38;5;241m=\u001b[39mensure_ascii,\n\u001b[0;32m    174\u001b[0m         check_circular\u001b[38;5;241m=\u001b[39mcheck_circular, allow_nan\u001b[38;5;241m=\u001b[39mallow_nan, indent\u001b[38;5;241m=\u001b[39mindent,\n\u001b[0;32m    175\u001b[0m         separators\u001b[38;5;241m=\u001b[39mseparators,\n\u001b[0;32m    176\u001b[0m         default\u001b[38;5;241m=\u001b[39mdefault, sort_keys\u001b[38;5;241m=\u001b[39msort_keys, \u001b[38;5;241m*\u001b[39m\u001b[38;5;241m*\u001b[39mkw)\u001b[38;5;241m.\u001b[39miterencode(obj)\n\u001b[0;32m    177\u001b[0m \u001b[38;5;66;03m# could accelerate with writelines in some versions of Python, at\u001b[39;00m\n\u001b[0;32m    178\u001b[0m \u001b[38;5;66;03m# a debuggability cost\u001b[39;00m\n\u001b[1;32m--> 179\u001b[0m \u001b[38;5;28;01mfor\u001b[39;00m chunk \u001b[38;5;129;01min\u001b[39;00m iterable:\n\u001b[0;32m    180\u001b[0m     fp\u001b[38;5;241m.\u001b[39mwrite(chunk)\n",
      "File \u001b[1;32m~\\anaconda3\\Lib\\json\\encoder.py:439\u001b[0m, in \u001b[0;36m_make_iterencode.<locals>._iterencode\u001b[1;34m(o, _current_indent_level)\u001b[0m\n\u001b[0;32m    437\u001b[0m         \u001b[38;5;28;01mraise\u001b[39;00m \u001b[38;5;167;01mValueError\u001b[39;00m(\u001b[38;5;124m\"\u001b[39m\u001b[38;5;124mCircular reference detected\u001b[39m\u001b[38;5;124m\"\u001b[39m)\n\u001b[0;32m    438\u001b[0m     markers[markerid] \u001b[38;5;241m=\u001b[39m o\n\u001b[1;32m--> 439\u001b[0m o \u001b[38;5;241m=\u001b[39m _default(o)\n\u001b[0;32m    440\u001b[0m \u001b[38;5;28;01myield from\u001b[39;00m _iterencode(o, _current_indent_level)\n\u001b[0;32m    441\u001b[0m \u001b[38;5;28;01mif\u001b[39;00m markers \u001b[38;5;129;01mis\u001b[39;00m \u001b[38;5;129;01mnot\u001b[39;00m \u001b[38;5;28;01mNone\u001b[39;00m:\n",
      "File \u001b[1;32m~\\anaconda3\\Lib\\json\\encoder.py:180\u001b[0m, in \u001b[0;36mJSONEncoder.default\u001b[1;34m(self, o)\u001b[0m\n\u001b[0;32m    161\u001b[0m \u001b[38;5;28;01mdef\u001b[39;00m \u001b[38;5;21mdefault\u001b[39m(\u001b[38;5;28mself\u001b[39m, o):\n\u001b[0;32m    162\u001b[0m \u001b[38;5;250m    \u001b[39m\u001b[38;5;124;03m\"\"\"Implement this method in a subclass such that it returns\u001b[39;00m\n\u001b[0;32m    163\u001b[0m \u001b[38;5;124;03m    a serializable object for ``o``, or calls the base implementation\u001b[39;00m\n\u001b[0;32m    164\u001b[0m \u001b[38;5;124;03m    (to raise a ``TypeError``).\u001b[39;00m\n\u001b[1;32m   (...)\u001b[0m\n\u001b[0;32m    178\u001b[0m \n\u001b[0;32m    179\u001b[0m \u001b[38;5;124;03m    \"\"\"\u001b[39;00m\n\u001b[1;32m--> 180\u001b[0m     \u001b[38;5;28;01mraise\u001b[39;00m \u001b[38;5;167;01mTypeError\u001b[39;00m(\u001b[38;5;124mf\u001b[39m\u001b[38;5;124m'\u001b[39m\u001b[38;5;124mObject of type \u001b[39m\u001b[38;5;132;01m{\u001b[39;00mo\u001b[38;5;241m.\u001b[39m\u001b[38;5;18m__class__\u001b[39m\u001b[38;5;241m.\u001b[39m\u001b[38;5;18m__name__\u001b[39m\u001b[38;5;132;01m}\u001b[39;00m\u001b[38;5;124m \u001b[39m\u001b[38;5;124m'\u001b[39m\n\u001b[0;32m    181\u001b[0m                     \u001b[38;5;124mf\u001b[39m\u001b[38;5;124m'\u001b[39m\u001b[38;5;124mis not JSON serializable\u001b[39m\u001b[38;5;124m'\u001b[39m)\n",
      "\u001b[1;31mTypeError\u001b[0m: Object of type ndarray is not JSON serializable"
     ]
    }
   ],
   "source": []
  },
  {
   "cell_type": "code",
   "execution_count": null,
   "id": "c55bcce1",
   "metadata": {},
   "outputs": [],
   "source": []
  }
 ],
 "metadata": {
  "kernelspec": {
   "display_name": "Python 3 (ipykernel)",
   "language": "python",
   "name": "python3"
  },
  "language_info": {
   "codemirror_mode": {
    "name": "ipython",
    "version": 3
   },
   "file_extension": ".py",
   "mimetype": "text/x-python",
   "name": "python",
   "nbconvert_exporter": "python",
   "pygments_lexer": "ipython3",
   "version": "3.11.5"
  }
 },
 "nbformat": 4,
 "nbformat_minor": 5
}
