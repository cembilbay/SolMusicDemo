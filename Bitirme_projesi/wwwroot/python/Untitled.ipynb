{
 "cells": [
  {
   "cell_type": "code",
   "execution_count": null,
   "id": "94c16d7c",
   "metadata": {},
   "outputs": [],
   "source": [
    "import pandas as pd\n",
    "from sklearn.feature_extraction.text import TfidfVectorizer\n",
    "from sklearn.metrics.pairwise import linear_kernel"
   ]
  },
  {
   "cell_type": "code",
   "execution_count": null,
   "id": "0b35fc41",
   "metadata": {},
   "outputs": [],
   "source": [
    "df = pd.read_csv('turkish_song_lyrics.csv', encoding='utf-8')"
   ]
  },
  {
   "cell_type": "code",
   "execution_count": null,
   "id": "551597b8",
   "metadata": {},
   "outputs": [],
   "source": [
    "print(df.head())"
   ]
  },
  {
   "cell_type": "code",
   "execution_count": null,
   "id": "9e5b8496",
   "metadata": {},
   "outputs": [],
   "source": [
    "turkish_stopwords = [\"acaba\", \"ama\", \"aslında\", \"az\", \"bazı\", \"belki\", \"biri\", \"birkaç\", \"birşey\", \"biz\", \"bu\", \"çok\", \"çünkü\", \"da\", \"daha\", \"de\", \"defa\", \"diye\", \"eğer\", \"en\", \"gibi\", \"hem\", \"hep\", \"hepsi\", \"her\", \"hiç\", \"için\", \"ile\", \"ise\", \"kez\", \"ki\", \"kim\", \"mı\", \"mu\", \"mü\", \"nasıl\", \"ne\", \"neden\", \"nerde\", \"nerede\", \"nereye\", \"niçin\", \"niye\", \"o\", \"sanki\", \"şey\", \"siz\", \"şu\", \"tüm\", \"ve\", \"veya\", \"ya\", \"yani\"]"
   ]
  },
  {
   "cell_type": "code",
   "execution_count": null,
   "id": "c631398a",
   "metadata": {},
   "outputs": [],
   "source": [
    "tfidf_vectorizer = TfidfVectorizer(stop_words=turkish_stopwords)\n",
    "tfidf_matrix = tfidf_vectorizer.fit_transform(df['lyrics'])"
   ]
  },
  {
   "cell_type": "code",
   "execution_count": null,
   "id": "b65d9540",
   "metadata": {},
   "outputs": [],
   "source": [
    "cosine_similarity = linear_kernel(tfidf_matrix, tfidf_matrix)"
   ]
  },
  {
   "cell_type": "code",
   "execution_count": null,
   "id": "7a3fc248",
   "metadata": {},
   "outputs": [],
   "source": [
    "song_index = df[df['song'] == 'Aya (Ft. Murda)'].index[0]"
   ]
  },
  {
   "cell_type": "code",
   "execution_count": null,
   "id": "9887771d",
   "metadata": {},
   "outputs": [],
   "source": [
    "similar_songs = list(enumerate(cosine_similarity[song_index]))"
   ]
  },
  {
   "cell_type": "code",
   "execution_count": null,
   "id": "4965238f",
   "metadata": {},
   "outputs": [],
   "source": [
    "similar_songs = sorted(similar_songs, key=lambda x: x[1], reverse=True)\n"
   ]
  },
  {
   "cell_type": "code",
   "execution_count": null,
   "id": "28f7054e",
   "metadata": {},
   "outputs": [],
   "source": [
    "recommended_songs = similar_songs[1:6]\n",
    "\n",
    "# Kullanıcıya önerileri gösterin\n",
    "print(f\"\\n  için önerilen Türkçe şarkılar:\")\n",
    "for i, (index, score) in enumerate(recommended_songs):\n",
    "    print(f\"{i + 1}. {df['song'][index]} - {df['singer'][index]}\")"
   ]
  },
  {
   "cell_type": "code",
   "execution_count": 5,
   "id": "e3ebee78",
   "metadata": {},
   "outputs": [
    {
     "name": "stdout",
     "output_type": "stream",
     "text": [
      "[{\"song\": \"\\u0130nad\\u0131na Sevmek\", \"singer\": \"Serdar Orta\\u00e7\"}, {\"song\": \"S\\u00fcper\", \"singer\": \"Can Bonomo\"}, {\"song\": \"A\\u015fk Yalanm\\u0131\\u015f\", \"singer\": \"Zeki M\\u00fcren\"}, {\"song\": \"Avu\\u00e7lar\\u0131mda Hala S\\u0131cakl\\u0131\\u011f\\u0131n Var\", \"singer\": \"Zeki M\\u00fcren\"}, {\"song\": \"\\u0130kimizden Bir Kalmad\\u0131\", \"singer\": \"Orhan Gencebay\"}]\n"
     ]
    }
   ],
   "source": []
  },
  {
   "cell_type": "code",
   "execution_count": null,
   "id": "321e7054",
   "metadata": {},
   "outputs": [],
   "source": []
  }
 ],
 "metadata": {
  "kernelspec": {
   "display_name": "Python 3 (ipykernel)",
   "language": "python",
   "name": "python3"
  },
  "language_info": {
   "codemirror_mode": {
    "name": "ipython",
    "version": 3
   },
   "file_extension": ".py",
   "mimetype": "text/x-python",
   "name": "python",
   "nbconvert_exporter": "python",
   "pygments_lexer": "ipython3",
   "version": "3.11.5"
  }
 },
 "nbformat": 4,
 "nbformat_minor": 5
}
